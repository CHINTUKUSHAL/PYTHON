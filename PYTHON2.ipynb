{
  "nbformat": 4,
  "nbformat_minor": 0,
  "metadata": {
    "colab": {
      "provenance": []
    },
    "kernelspec": {
      "name": "python3",
      "display_name": "Python 3"
    },
    "language_info": {
      "name": "python"
    }
  },
  "cells": [
    {
      "cell_type": "code",
      "execution_count": 1,
      "metadata": {
        "colab": {
          "base_uri": "https://localhost:8080/"
        },
        "id": "yiJ5BNF9UQc9",
        "outputId": "48adfcbc-4b37-412a-e8ff-0f66d9d27769"
      },
      "outputs": [
        {
          "output_type": "stream",
          "name": "stdout",
          "text": [
            "Rodger is a mammal\n",
            "Tommy is also a mammal\n",
            "My name is Rodger\n",
            "My name is Tommy\n"
          ]
        }
      ],
      "source": [
        "#Creating a class and object\n",
        "class Dog:\n",
        "    attr1 = \"mammal\"\n",
        "    def __init__(self, name):\n",
        "        self.name = name\n",
        "Rodger = Dog(\"Rodger\")\n",
        "Tommy = Dog(\"Tommy\")\n",
        "\n",
        "print(\"Rodger is a {}\".format(Rodger.__class__.attr1))\n",
        "print(\"Tommy is also a {}\".format(Tommy.__class__.attr1))\n",
        "\n",
        "print(\"My name is {}\".format(Rodger.name))\n",
        "print(\"My name is {}\".format(Tommy.name))"
      ]
    },
    {
      "cell_type": "code",
      "source": [
        "class Employee:\n",
        "    company_name = 'ABC Company'\n",
        "    def __init__(self, name, salary):\n",
        "        self.name = name\n",
        "        self.salary = salary\n",
        "    def show(self):\n",
        "        print('Employee:', self.name, self.salary, self.company_name)\n",
        "emp1 = Employee(\"Harry\", 12000)\n",
        "emp1.show()\n",
        "emp2 = Employee(\"Emma\", 10000)\n",
        "emp2.show()\n"
      ],
      "metadata": {
        "colab": {
          "base_uri": "https://localhost:8080/"
        },
        "id": "LEPZSieyU-bh",
        "outputId": "47f3c18d-c473-4c8a-efc7-8d3d0d891701"
      },
      "execution_count": 2,
      "outputs": [
        {
          "output_type": "stream",
          "name": "stdout",
          "text": [
            "Employee: Harry 12000 ABC Company\n",
            "Employee: Emma 10000 ABC Company\n"
          ]
        }
      ]
    },
    {
      "cell_type": "code",
      "source": [
        "#INHERITANCE\n",
        "class Person(object):\n",
        "\n",
        "    def __init__(self, name, idnumber):\n",
        "        self.name = name\n",
        "        self.idnumber = idnumber\n",
        "\n",
        "    def display(self):\n",
        "        print(self.name)\n",
        "        print(self.idnumber)\n",
        "    def details(self):\n",
        "        print(\"My name is {}\".format(self.name))\n",
        "        print(\"IdNumber: {}\".format(self.idnumber))\n",
        "\n",
        "class Employee(Person):\n",
        "    def __init__(self, name, idnumber, salary, post):\n",
        "        self.salary = salary\n",
        "        self.post = post\n",
        "        Person.__init__(self, name, idnumber)\n",
        "\n",
        "    def details(self):\n",
        "        print(\"My name is {}\".format(self.name))\n",
        "        print(\"IdNumber: {}\".format(self.idnumber))\n",
        "        print(\"Post: {}\".format(self.post))\n",
        "\n",
        "a = Employee('Rahul', 886012, 200000, \"Intern\")\n",
        "a.display()\n",
        "a.details()\n"
      ],
      "metadata": {
        "colab": {
          "base_uri": "https://localhost:8080/"
        },
        "id": "8CEaPvhIVEfS",
        "outputId": "2332b7b7-811c-4070-9880-ebf94708f556"
      },
      "execution_count": 3,
      "outputs": [
        {
          "output_type": "stream",
          "name": "stdout",
          "text": [
            "Rahul\n",
            "886012\n",
            "My name is Rahul\n",
            "IdNumber: 886012\n",
            "Post: Intern\n"
          ]
        }
      ]
    },
    {
      "cell_type": "code",
      "source": [
        "#polymorphism\n",
        "class Bird:\n",
        "    def intro(self):\n",
        "        print(\"There are many types of birds.\")\n",
        "\n",
        "    def flight(self):\n",
        "        print(\"Most of the birds can fly but some cannot.\")\n",
        "\n",
        "class sparrow(Bird):\n",
        "    def flight(self):\n",
        "        print(\"Sparrows can fly.\")\n",
        "class ostrich(Bird):\n",
        "    def flight(self):\n",
        "        print(\"Ostriches cannot fly.\")\n",
        "obj_bird = Bird()\n",
        "obj_spr = sparrow()\n",
        "obj_ost = ostrich()\n",
        "obj_bird.intro()\n",
        "obj_bird.flight()\n",
        "obj_spr.intro()\n",
        "obj_spr.flight()\n",
        "obj_ost.intro()\n",
        "obj_ost.flight()"
      ],
      "metadata": {
        "colab": {
          "base_uri": "https://localhost:8080/"
        },
        "id": "D-RhCkdAVHjQ",
        "outputId": "af2350d3-8040-410a-b2a6-17c9d963438f"
      },
      "execution_count": 4,
      "outputs": [
        {
          "output_type": "stream",
          "name": "stdout",
          "text": [
            "There are many types of birds.\n",
            "Most of the birds can fly but some cannot.\n",
            "There are many types of birds.\n",
            "Sparrows can fly.\n",
            "There are many types of birds.\n",
            "Ostriches cannot fly.\n"
          ]
        }
      ]
    },
    {
      "cell_type": "code",
      "source": [
        "#Encapsulation\n",
        "class Base:\n",
        "    def __init__(self):\n",
        "        self.a = \"helloooo\"\n",
        "        self.__c = \"hello\"\n",
        "\n",
        "class Derived(Base):\n",
        "    def __init__(self):\n",
        "        Base.__init__(self)\n",
        "        print(\"Calling private member of base class: \")\n",
        "        print(self.__c)\n",
        "obj1 = Base()\n",
        "print(obj1.a)\n"
      ],
      "metadata": {
        "colab": {
          "base_uri": "https://localhost:8080/"
        },
        "id": "hVWQDavaVd7w",
        "outputId": "6552c524-8e20-4d9c-db69-0cbd8e19cb3a"
      },
      "execution_count": 5,
      "outputs": [
        {
          "output_type": "stream",
          "name": "stdout",
          "text": [
            "helloooo\n"
          ]
        }
      ]
    },
    {
      "cell_type": "code",
      "source": [
        "#Abstraction\n",
        "class Rectangle:\n",
        "    def __init__(self, length, width):\n",
        "        self.__length = length\n",
        "        self.__width = width\n",
        "\n",
        "    def area(self):\n",
        "        return self.__length * self.__width\n",
        "\n",
        "    def perimeter(self):\n",
        "        return 2 * (self.__length + self.__width)\n",
        "\n",
        "rect = Rectangle(5, 3)\n",
        "print(f\"Area: {rect.area()}\")\n",
        "print(f\"Perimeter: {rect.perimeter()}\")"
      ],
      "metadata": {
        "colab": {
          "base_uri": "https://localhost:8080/"
        },
        "id": "RL3lHhymVhuo",
        "outputId": "15fbbb75-4cda-4171-993e-1fe94d7c2fe8"
      },
      "execution_count": 6,
      "outputs": [
        {
          "output_type": "stream",
          "name": "stdout",
          "text": [
            "Area: 15\n",
            "Perimeter: 16\n"
          ]
        }
      ]
    },
    {
      "cell_type": "code",
      "source": [
        "#create a numpy array with 6 random integers from 10 to 30\n",
        "import numpy as np\n",
        "arr = np.random.randint(10, 30, 6)\n",
        "print(arr)\n"
      ],
      "metadata": {
        "colab": {
          "base_uri": "https://localhost:8080/"
        },
        "id": "5zw5yv3fjLQ9",
        "outputId": "6053e6d1-d782-49e1-adac-3e53f84cd872"
      },
      "execution_count": 7,
      "outputs": [
        {
          "output_type": "stream",
          "name": "stdout",
          "text": [
            "[12 15 21 21 11 10]\n"
          ]
        }
      ]
    },
    {
      "cell_type": "code",
      "source": [
        "#Create a numpy array of size 10 x 5 with random values and extract the first five rows into variable\n",
        "import numpy as np\n",
        "arr = np.random.rand(10, 5)\n",
        "print(arr)\n",
        "first_five_rows = arr[:5]\n",
        "print(first_five_rows)\n"
      ],
      "metadata": {
        "colab": {
          "base_uri": "https://localhost:8080/"
        },
        "id": "VMisG7g_rCtI",
        "outputId": "991aab90-356e-4b45-caca-fa3ed8b6047b"
      },
      "execution_count": 8,
      "outputs": [
        {
          "output_type": "stream",
          "name": "stdout",
          "text": [
            "[[0.3315035  0.299996   0.45794569 0.3176741  0.0578818 ]\n",
            " [0.7932414  0.11536987 0.05964924 0.46877222 0.16512906]\n",
            " [0.78459163 0.45798373 0.36443376 0.12214124 0.31078482]\n",
            " [0.35344177 0.61836244 0.15605067 0.51219412 0.36577648]\n",
            " [0.88179144 0.90575624 0.23477672 0.25074477 0.40510758]\n",
            " [0.74798389 0.03900012 0.07518021 0.71263465 0.95264841]\n",
            " [0.89869628 0.77782692 0.82316897 0.14945897 0.5605069 ]\n",
            " [0.96720361 0.73771028 0.85822619 0.42741156 0.42701833]\n",
            " [0.2180151  0.6313436  0.42275838 0.49227574 0.77745752]\n",
            " [0.86574865 0.0647997  0.78615069 0.34604936 0.91384943]]\n",
            "[[0.3315035  0.299996   0.45794569 0.3176741  0.0578818 ]\n",
            " [0.7932414  0.11536987 0.05964924 0.46877222 0.16512906]\n",
            " [0.78459163 0.45798373 0.36443376 0.12214124 0.31078482]\n",
            " [0.35344177 0.61836244 0.15605067 0.51219412 0.36577648]\n",
            " [0.88179144 0.90575624 0.23477672 0.25074477 0.40510758]]\n"
          ]
        }
      ]
    },
    {
      "cell_type": "code",
      "source": [
        "#create a numpy array of size 5x5 with random values and find the maximum and minimum in them\n",
        "import numpy as np\n",
        "arr = np.random.rand(5, 5)\n",
        "print(arr)\n",
        "min,max = arr.min(),arr.max()\n",
        "print(\"highest=\",max,\"lowest=\",min)\n"
      ],
      "metadata": {
        "colab": {
          "base_uri": "https://localhost:8080/"
        },
        "id": "BMfHY57vrG75",
        "outputId": "ec4b4edf-4e92-4177-9d30-34871e689a22"
      },
      "execution_count": 9,
      "outputs": [
        {
          "output_type": "stream",
          "name": "stdout",
          "text": [
            "[[0.46332078 0.99616367 0.42836612 0.38882095 0.93689321]\n",
            " [0.1821406  0.93458664 0.21236618 0.57141038 0.81243709]\n",
            " [0.45286051 0.04939828 0.26661448 0.63194756 0.30714341]\n",
            " [0.74927641 0.65109258 0.38829777 0.09875367 0.41631835]\n",
            " [0.86322958 0.20068493 0.9373938  0.32012622 0.48671138]]\n",
            "highest= 0.9961636739920359 lowest= 0.04939828444201\n"
          ]
        }
      ]
    },
    {
      "cell_type": "code",
      "source": [
        "#create a numpy array which has numbers shuffled between 1 to 10\n",
        "import numpy as np\n",
        "x = np.arange(1,11)\n",
        "print(x)\n",
        "np.random.shuffle(x)\n",
        "print(x)"
      ],
      "metadata": {
        "colab": {
          "base_uri": "https://localhost:8080/"
        },
        "id": "xtdwjPdcrLbY",
        "outputId": "3a7c700c-8827-413b-a004-e4af90bbbe04"
      },
      "execution_count": 10,
      "outputs": [
        {
          "output_type": "stream",
          "name": "stdout",
          "text": [
            "[ 1  2  3  4  5  6  7  8  9 10]\n",
            "[ 5 10  6  7  8  2  4  9  3  1]\n"
          ]
        }
      ]
    }
  ]
}